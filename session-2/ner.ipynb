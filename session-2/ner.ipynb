{
 "cells": [
  {
   "cell_type": "markdown",
   "id": "a65d813b",
   "metadata": {},
   "source": [
    "# Named Entity Recognition"
   ]
  },
  {
   "cell_type": "markdown",
   "id": "eefbe82e",
   "metadata": {},
   "source": [
    "## Named Entity Recognition mit `spaCy`"
   ]
  },
  {
   "cell_type": "code",
   "execution_count": null,
   "id": "ce9ab595",
   "metadata": {
    "vscode": {
     "languageId": "plaintext"
    }
   },
   "outputs": [],
   "source": [
    "import spacy"
   ]
  },
  {
   "cell_type": "code",
   "execution_count": null,
   "id": "41274d6a",
   "metadata": {
    "vscode": {
     "languageId": "plaintext"
    }
   },
   "outputs": [],
   "source": [
    "text = \"Erfurt ist seit 1991 die Landeshauptstadt des Freistaates Thüringen. Sie ist mit rund 220.000 Einwohnern die größte Stadt Thüringens und eines der Oberzentren des Landes. Wichtigste Institutionen neben den Landesbehörden sind das Bundesarbeitsgericht, die Universität und die Fachhochschule Erfurt, das katholische Bistum Erfurt, dessen Kathedrale der Erfurter Dom ist, sowie das Landeskirchenamt der Evangelischen Kirche in Mitteldeutschland.\""
   ]
  },
  {
   "cell_type": "code",
   "execution_count": null,
   "id": "a3790377",
   "metadata": {
    "vscode": {
     "languageId": "plaintext"
    }
   },
   "outputs": [],
   "source": [
    "nlp = spacy.load('de_core_news_sm')\n",
    "\n",
    "doc = nlp(text)"
   ]
  },
  {
   "cell_type": "code",
   "execution_count": null,
   "id": "71e5e0ef",
   "metadata": {
    "vscode": {
     "languageId": "plaintext"
    }
   },
   "outputs": [],
   "source": [
    "for ent in doc.ents:\n",
    "    print(ent.text, ent.start_char, ent.end_char, ent.label_)"
   ]
  },
  {
   "cell_type": "markdown",
   "id": "2103c0ef",
   "metadata": {},
   "source": [
    "## Visualisierung des Ergebnisses in Markdown"
   ]
  },
  {
   "cell_type": "code",
   "execution_count": null,
   "id": "5ec8dbc2",
   "metadata": {
    "vscode": {
     "languageId": "plaintext"
    }
   },
   "outputs": [],
   "source": [
    "def get_start_pos(ent):\n",
    "    return ent.start_char\n",
    "\n",
    "ents.sort(key=get_start_pos, reverse=True)\n",
    "\n",
    "for ent in ents:\n",
    "    label = ent.label_\n",
    "    # Markdown-style tags with entity type\n",
    "    tagged = f\"[{label}] **{ent.text}**\"\n",
    "    # Replace the entity in the text\n",
    "    text = text[:ent.start_char] + tagged + text[ent.end_char:]\n",
    "\n",
    "print(text)"
   ]
  }
 ],
 "metadata": {
  "language_info": {
   "name": "python"
  }
 },
 "nbformat": 4,
 "nbformat_minor": 5
}
