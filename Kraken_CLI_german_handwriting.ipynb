{
 "cells": [
  {
   "cell_type": "code",
   "execution_count": null,
   "id": "fbe3ca3b",
   "metadata": {},
   "outputs": [],
   "source": [
    "from IPython.display import display\n",
    "from ipywidgets import FileUpload\n",
    "from PIL import Image\n",
    "import io\n",
    "\n",
    "uploader = FileUpload(accept='.jpg,.jpeg,.png,.tif,.tiff', multiple=False)\n",
    "display(uploader)\n"
   ]
  },
  {
   "cell_type": "code",
   "execution_count": null,
   "id": "3b884839",
   "metadata": {},
   "outputs": [],
   "source": [
    "if uploader.value:\n",
    "    uploaded_file = uploader.value[0]\n",
    "    content = uploaded_file['content']\n",
    "    file_name = uploaded_file.get('name', 'input.jpg')\n",
    "\n",
    "    image = Image.open(io.BytesIO(content)).convert('RGB')\n",
    "    image.save(\"input.jpg\")\n",
    "    print(f\"Bild gespeichert als input.jpg\")\n",
    "else:\n",
    "    print(\"Bitte ein Bild hochladen.\")\n"
   ]
  },
  {
   "cell_type": "code",
   "execution_count": null,
   "id": "cfd6a8b3",
   "metadata": {},
   "outputs": [],
   "source": [
    "# OCR mit Kraken CLI (binarize → segment → ocr)\n",
    "!kraken -i input.jpg output.txt binarize segment ocr -m german_handwriting.mlmodel\n"
   ]
  },
  {
   "cell_type": "code",
   "execution_count": null,
   "id": "5c27238f",
   "metadata": {},
   "outputs": [],
   "source": [
    "# Erkannten Text anzeigen\n",
    "with open(\"output.txt\", \"r\", encoding=\"utf-8\") as f:\n",
    "    text = f.read()\n",
    "\n",
    "print(\"Erkannter Text:\")\n",
    "print(text)\n"
   ]
  }
 ],
 "metadata": {
  "kernelspec": {
   "display_name": ".venv",
   "language": "python",
   "name": "python3"
  },
  "language_info": {
   "codemirror_mode": {
    "name": "ipython",
    "version": 3
   },
   "file_extension": ".py",
   "mimetype": "text/x-python",
   "name": "python",
   "nbconvert_exporter": "python",
   "pygments_lexer": "ipython3",
   "version": "3.12.3"
  }
 },
 "nbformat": 4,
 "nbformat_minor": 5
}
