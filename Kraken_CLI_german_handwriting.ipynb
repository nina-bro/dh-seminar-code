{
 "cells": [
  {
   "cell_type": "code",
   "execution_count": 1,
   "id": "fbe3ca3b",
   "metadata": {},
   "outputs": [
    {
     "data": {
      "application/vnd.jupyter.widget-view+json": {
       "model_id": "f73580c8e9a9473bb00d1879b883d816",
       "version_major": 2,
       "version_minor": 0
      },
      "text/plain": [
       "FileUpload(value=(), accept='.jpg,.jpeg,.png,.tif,.tiff', description='Upload')"
      ]
     },
     "metadata": {},
     "output_type": "display_data"
    }
   ],
   "source": [
    "from IPython.display import display\n",
    "from ipywidgets import FileUpload\n",
    "from PIL import Image\n",
    "import io\n",
    "\n",
    "uploader = FileUpload(accept='.jpg,.jpeg,.png,.tif,.tiff', multiple=False)\n",
    "display(uploader)\n"
   ]
  },
  {
   "cell_type": "code",
   "execution_count": 2,
   "id": "3b884839",
   "metadata": {},
   "outputs": [
    {
     "name": "stdout",
     "output_type": "stream",
     "text": [
      "Bild gespeichert als input.jpg\n"
     ]
    }
   ],
   "source": [
    "if uploader.value:\n",
    "    uploaded_file = uploader.value[0]\n",
    "    content = uploaded_file['content']\n",
    "    file_name = uploaded_file.get('name', 'input.jpg')\n",
    "\n",
    "    image = Image.open(io.BytesIO(content)).convert('RGB')\n",
    "    image.save(\"input.jpg\")\n",
    "    print(f\"Bild gespeichert als input.jpg\")\n",
    "else:\n",
    "    print(\"Bitte ein Bild hochladen.\")\n"
   ]
  },
  {
   "cell_type": "code",
   "execution_count": 3,
   "id": "cfd6a8b3",
   "metadata": {},
   "outputs": [
    {
     "name": "stdout",
     "output_type": "stream",
     "text": [
      "Loading ANN german_handwriting.mlmodel\t\u001b[0m\u001b[32m✓\u001b[0m\n",
      "Binarizing\t\u001b[0m\u001b[32m✓\u001b[0m\n",
      "Segmenting input.jpg\t\u001b[0m\u001b[32m✓\u001b[0m\n",
      "\u001b[2;36m[08/07/25 10:12:10]\u001b[0m\u001b[2;36m \u001b[0m\u001b[33mWARNING \u001b[0m Recognizers with segmentation types    \u001b]8;id=53999;file:///home/nina/Documents/teaching-test-code/.venv/lib/python3.12/site-packages/kraken/rpred.py\u001b\\\u001b[2mrpred.py\u001b[0m\u001b]8;;\u001b\\\u001b[2m:\u001b[0m\u001b]8;id=858493;file:///home/nina/Documents/teaching-test-code/.venv/lib/python3.12/site-packages/kraken/rpred.py#103\u001b\\\u001b[2m103\u001b[0m\u001b]8;;\u001b\\\n",
      "\u001b[2;36m                    \u001b[0m         \u001b[1m{\u001b[0m\u001b[32m'baselines'\u001b[0m\u001b[1m}\u001b[0m will be applied to       \u001b[2m            \u001b[0m\n",
      "\u001b[2;36m                    \u001b[0m         segmentation of type bbox. This will   \u001b[2m            \u001b[0m\n",
      "\u001b[2;36m                    \u001b[0m         likely result in severely degraded     \u001b[2m            \u001b[0m\n",
      "\u001b[2;36m                    \u001b[0m         performace                             \u001b[2m            \u001b[0m\n",
      "\u001b[2KProcessing \u001b[38;2;114;156;31m━━━━━━━━━━━━━━━━━━━━━━━━━━━━━━━━━━━━━━━━\u001b[0m \u001b[35m100%\u001b[0m \u001b[35m41/41\u001b[0m \u001b[36m0:00:00\u001b[0m \u001b[33m0:00:07\u001b[0m[33m0:00:07\u001b[0m[33m0:00:06\u001b[0m:03\u001b[0m\n",
      "\u001b[?25hWriting recognition results for input.jpg\t\u001b[0m\u001b[32m✓\u001b[0m\n"
     ]
    }
   ],
   "source": [
    "# OCR mit Kraken CLI (binarize → segment → ocr)\n",
    "!kraken -i input.jpg output.txt binarize segment ocr -m german_handwriting.mlmodel\n"
   ]
  },
  {
   "cell_type": "code",
   "execution_count": 4,
   "id": "5c27238f",
   "metadata": {},
   "outputs": [
    {
     "name": "stdout",
     "output_type": "stream",
     "text": [
      "Erkannter Text:\n",
      "\n",
      "\n",
      "rn i w\n",
      "HelWelabn Harsarten probst ds otffte\n",
      "-Angans dwrinsten zu eissota\n",
      "omerund Acbrsen des hat hir Vo, nos wrsc\n",
      "\n",
      "9 Malleer vn pinck\n",
      "\n",
      "prtste Fladen Habe\n",
      "von do ppfirvers viren van Ebe\n",
      "i Ach dselb ont\n",
      "\n",
      "ihind emnan zolssen a Sfrezt Hats Rog er\n",
      "  a\n",
      " Taß Als 2 Aowallen\n",
      "3o t van zo Laix auf gif\n",
      "\n",
      "\n",
      " Avon Auf sein\n",
      "eo\n",
      "\n",
      "e dat, Pülig, purcher, u\n",
      "Dn von Prentom\n",
      "an Hannß Erenb, sola\n",
      "1vl ds Ir ans aber wistgel halr\n",
      "beben vort wüse b. vurcf und maßt vir wachpcand oe\n",
      "m n brt a heil sern dn vom ein sollu\n",
      "n Bun wr sile u ds Gabs von ornon, der\n",
      "nach on al s wr enelaf ader er\n",
      "en nsin\n",
      "orl d von aoch nathst\n",
      ". mit d\n",
      "a Le ]ol\n",
      "kin und ser hab zuten vi mlaff, ss dunkerms\n",
      "e\n",
      "pach slnd schrifl und mig veglens\n",
      "van vor bao wit einie auf deg obar wlnbe be\n",
      "ey beg vns aufgorin um und wese stathden, un\n",
      "aoent womund nsen haler Züect in ec od\n",
      "erissen e er jeber be auf gener selle als aulvr¬\n"
     ]
    }
   ],
   "source": [
    "# Erkannten Text anzeigen\n",
    "with open(\"output.txt\", \"r\", encoding=\"utf-8\") as f:\n",
    "    text = f.read()\n",
    "\n",
    "print(\"Erkannter Text:\")\n",
    "print(text)\n"
   ]
  }
 ],
 "metadata": {
  "kernelspec": {
   "display_name": ".venv",
   "language": "python",
   "name": "python3"
  },
  "language_info": {
   "codemirror_mode": {
    "name": "ipython",
    "version": 3
   },
   "file_extension": ".py",
   "mimetype": "text/x-python",
   "name": "python",
   "nbconvert_exporter": "python",
   "pygments_lexer": "ipython3",
   "version": "3.12.3"
  }
 },
 "nbformat": 4,
 "nbformat_minor": 5
}
