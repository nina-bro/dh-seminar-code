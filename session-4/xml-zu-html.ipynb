{
 "cells": [
  {
   "cell_type": "markdown",
   "id": "770e26cb",
   "metadata": {},
   "source": [
    "# XML zu HTML mittels XSLT"
   ]
  },
  {
   "cell_type": "code",
   "execution_count": null,
   "id": "96ce2129",
   "metadata": {
    "vscode": {
     "languageId": "plaintext"
    }
   },
   "outputs": [],
   "source": [
    "from lxml import etree\n",
    "import os\n",
    "\n",
    "def transform_xml(xml_filename, xsl_filename, output_filename=None):\n",
    "    \"\"\"\n",
    "    Führt eine XSLT-Transformation durch.\n",
    "\n",
    "    Parameters:\n",
    "    - xml_filename (str): Pfad zur XML-Datei relativ zum Notebook (z. B. '../input.xml')\n",
    "    - xsl_filename (str): Pfad zum XSLT-Stylesheet relativ zum Notebook (z. B. '../style.xsl')\n",
    "    - output_filename (str): (Optional) Name/Pfad der zu schreibenden HTML-Datei\n",
    "\n",
    "    Returns:\n",
    "    - str: Ergebnis der Transformation als HTML-String\n",
    "    \"\"\"\n",
    "\n",
    "    # XML und XSLT einlesen\n",
    "    xml_doc = etree.parse(xml_filename)\n",
    "    xsl_doc = etree.parse(xsl_filename)\n",
    "\n",
    "    # Transformation vorbereiten und anwenden\n",
    "    transform = etree.XSLT(xsl_doc)\n",
    "    result = transform(xml_doc)\n",
    "\n",
    "    # Optional: HTML-Datei speichern\n",
    "    if output_filename:\n",
    "        with open(output_filename, \"w\", encoding=\"utf-8\") as f:\n",
    "            f.write(str(result))\n",
    "\n",
    "    return str(result)\n"
   ]
  },
  {
   "cell_type": "markdown",
   "id": "3e0af876",
   "metadata": {},
   "source": [
    "## einfaches Beispiel"
   ]
  },
  {
   "cell_type": "code",
   "execution_count": null,
   "id": "68b616f2",
   "metadata": {
    "vscode": {
     "languageId": "plaintext"
    }
   },
   "outputs": [],
   "source": [
    "print(transform_xml('ex-1.xml', 'stylesheet-1.xsl', 'output.html'))"
   ]
  },
  {
   "cell_type": "markdown",
   "id": "09b42bf2",
   "metadata": {},
   "source": [
    "## zwei Templates"
   ]
  },
  {
   "cell_type": "code",
   "execution_count": null,
   "id": "45e38144",
   "metadata": {
    "vscode": {
     "languageId": "plaintext"
    }
   },
   "outputs": [],
   "source": [
    "print(transform_xml('ex-1.xml', 'stylesheet-2.xsl', 'output.html'))"
   ]
  },
  {
   "cell_type": "markdown",
   "id": "065c2565",
   "metadata": {},
   "source": [
    "## Beispiel mit value-of-Element"
   ]
  },
  {
   "cell_type": "code",
   "execution_count": null,
   "id": "f2e6f4cb",
   "metadata": {
    "vscode": {
     "languageId": "plaintext"
    }
   },
   "outputs": [],
   "source": [
    "print(transform_xml('ex-3.xml', 'stylesheet-3.xsl', 'output.html'))"
   ]
  },
  {
   "cell_type": "markdown",
   "id": "11ad59d3",
   "metadata": {},
   "source": [
    "## Beispiel mit if und sort"
   ]
  },
  {
   "cell_type": "code",
   "execution_count": null,
   "id": "b0d4266d",
   "metadata": {
    "vscode": {
     "languageId": "plaintext"
    }
   },
   "outputs": [],
   "source": [
    "print(transform_xml('ex-3.xml', 'stylesheet-4.xsl', 'output.html'))"
   ]
  },
  {
   "cell_type": "markdown",
   "id": "22c8e035",
   "metadata": {},
   "source": [
    "## Minimale digitale Edition Briefbücher"
   ]
  },
  {
   "cell_type": "code",
   "execution_count": null,
   "id": "e6c7b4be",
   "metadata": {
    "vscode": {
     "languageId": "plaintext"
    }
   },
   "outputs": [],
   "source": [
    "print(transform_xml('letter-1.xml', 'nbb.xsl', 'output.html'))"
   ]
  },
  {
   "cell_type": "markdown",
   "id": "cfa64ad2",
   "metadata": {},
   "source": []
  },
  {
   "cell_type": "markdown",
   "id": "10febbe5",
   "metadata": {},
   "source": []
  },
  {
   "cell_type": "markdown",
   "id": "3bc4dc0e",
   "metadata": {},
   "source": []
  }
 ],
 "metadata": {
  "language_info": {
   "name": "python"
  }
 },
 "nbformat": 4,
 "nbformat_minor": 5
}
