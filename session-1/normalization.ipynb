{
 "cells": [
  {
   "cell_type": "markdown",
   "id": "cd42d698",
   "metadata": {},
   "source": [
    "# Normalisierung"
   ]
  },
  {
   "cell_type": "markdown",
   "id": "bb96ee05",
   "metadata": {},
   "source": [
    "## Ersetzungen innerhalb von Strings"
   ]
  },
  {
   "cell_type": "code",
   "execution_count": null,
   "id": "ec97118c",
   "metadata": {
    "vscode": {
     "languageId": "plaintext"
    }
   },
   "outputs": [],
   "source": [
    "import re"
   ]
  },
  {
   "cell_type": "markdown",
   "id": "f6cc0c0a",
   "metadata": {},
   "source": [
    "### Schaft-S -> S"
   ]
  },
  {
   "cell_type": "code",
   "execution_count": null,
   "id": "9cb39256",
   "metadata": {
    "vscode": {
     "languageId": "plaintext"
    }
   },
   "outputs": [],
   "source": [
    "text = \"hern Nyclaſen hopgarten Probſten des Stiffts cʒu ſant Auguſtin cʒu Erfforden\"\n",
    "\n",
    "normalized_text = re.sub(\"ſ\", \"s\", text)\n",
    "\n",
    "print(normalized_text)"
   ]
  },
  {
   "cell_type": "markdown",
   "id": "fc2d1000",
   "metadata": {},
   "source": [
    "### w mit Trema -> w"
   ]
  },
  {
   "cell_type": "code",
   "execution_count": null,
   "id": "7468f41e",
   "metadata": {
    "vscode": {
     "languageId": "plaintext"
    }
   },
   "outputs": [],
   "source": [
    "text = \"hern Nyclaſen hopgarten Probſten des Stiffts cʒu ſant Auguſtin cʒu Erfforden\"\n",
    "\n",
    "normalized_text = re.sub(\"\\u1e85|\\u0077\\u0308\", \"w\", text)\n",
    "\n",
    "print(normalized_text)"
   ]
  },
  {
   "cell_type": "markdown",
   "id": "ae381082",
   "metadata": {},
   "source": [
    "## Ersetzungen mit Einlesen von Text"
   ]
  },
  {
   "cell_type": "code",
   "execution_count": null,
   "id": "d48d6138",
   "metadata": {
    "vscode": {
     "languageId": "plaintext"
    }
   },
   "outputs": [],
   "source": [
    "with open(\"../ef-letter-1.txt\", \"r\", encoding=\"utf-8\") as f:\n",
    "    text = f.read()\n",
    "\n",
    "normalized_text = re.sub(\"\\u1e85|\\u0077\\u0308\", \"w\", text)\n",
    "\n",
    "print(normalized_text)"
   ]
  }
 ],
 "metadata": {
  "language_info": {
   "name": "python"
  }
 },
 "nbformat": 4,
 "nbformat_minor": 5
}
